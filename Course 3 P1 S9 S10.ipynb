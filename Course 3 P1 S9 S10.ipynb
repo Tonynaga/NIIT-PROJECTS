{
 "cells": [
  {
   "cell_type": "code",
   "execution_count": 25,
   "id": "a1d0fd43-7265-406b-8f7f-9c1446371667",
   "metadata": {},
   "outputs": [],
   "source": [
    "# Task 1\n",
    "import random\n",
    "\n",
    "def play_riddle_puzzle():\n",
    "    # Riddle bank\n",
    "    riddles = {\n",
    "        \"What has keys but can't open locks?\": \"keyboard\",\n",
    "        \"What comes down but never goes up?\": \"rain\",\n",
    "        \"I speak without a mouth and hear without ears. I have nobody, but I come alive with wind. What am I?\": \"echo\",\n",
    "        \"I have branches, but no fruit, trunk, or leaves. What am I?\": \"bank\",\n",
    "        \"The more you take, the more you leave behind. What am I?\": \"footsteps\",\n",
    "        \"What can travel around the world while staying in a corner?\": \"stamp\",\n",
    "        \"What gets wetter as it dries?\": \"towel\",\n",
    "        \"What has a thumb and four fingers but is not alive?\": \"glove\",\n",
    "        \"What can be cracked, made, told, and played?\": \"joke\",\n",
    "        \"What has many teeth but cannot bite?\": \"comb\"\n",
    "    }\n",
    "    \n",
    "    riddle_items = list(riddles.items())\n",
    "    \n",
    "    random.shuffle(riddle_items)\n",
    "    \n",
    "    total_questions = min(10, len(riddle_items))\n",
    "    correct_answers = 0\n",
    "    asked_questions = 0\n",
    "    \n",
    "    while asked_questions < total_questions:\n",
    "        riddle, answer = riddle_items[asked_questions]\n",
    "        \n",
    "        print(f\"Riddle: {riddle}\")\n",
    "        user_answer = input(\"Your answer: \").lower()\n",
    "    \n",
    "        if user_answer == answer.lower():\n",
    "            print(\"Correct!\")\n",
    "            correct_answers += 1\n",
    "        else:\n",
    "            print(f\"Incorrect! The correct answer is: {answer}\")\n",
    "        \n",
    "        asked_questions += 1\n",
    "    \n",
    "        play_again = input(\"Do you want to solve another riddle? (yes/no): \").strip().lower()\n",
    "        if play_again != 'yes':\n",
    "            break\n",
    "    \n",
    "    score_percentage = (correct_answers / total_questions) * 100\n",
    "    print(f\"Your score: {score_percentage}%\")\n"
   ]
  },
  {
   "cell_type": "code",
   "execution_count": 3,
   "id": "5086b369-e0e8-44b4-90fe-f2e6cfd3a872",
   "metadata": {},
   "outputs": [
    {
     "name": "stdout",
     "output_type": "stream",
     "text": [
      "Solve: 15 * 15\n"
     ]
    },
    {
     "name": "stdin",
     "output_type": "stream",
     "text": [
      "Your answer:  225\n"
     ]
    },
    {
     "name": "stdout",
     "output_type": "stream",
     "text": [
      "Correct!\n"
     ]
    },
    {
     "name": "stdin",
     "output_type": "stream",
     "text": [
      "Do you want to solve another problem? (yes/no):  yes\n"
     ]
    },
    {
     "name": "stdout",
     "output_type": "stream",
     "text": [
      "Solve: 7 * 4\n"
     ]
    },
    {
     "name": "stdin",
     "output_type": "stream",
     "text": [
      "Your answer:  28\n"
     ]
    },
    {
     "name": "stdout",
     "output_type": "stream",
     "text": [
      "Correct!\n"
     ]
    },
    {
     "name": "stdin",
     "output_type": "stream",
     "text": [
      "Do you want to solve another problem? (yes/no):  yes\n"
     ]
    },
    {
     "name": "stdout",
     "output_type": "stream",
     "text": [
      "Solve: 20 / 16\n"
     ]
    },
    {
     "name": "stdin",
     "output_type": "stream",
     "text": [
      "Your answer:  1\n"
     ]
    },
    {
     "name": "stdout",
     "output_type": "stream",
     "text": [
      "Correct!\n"
     ]
    },
    {
     "name": "stdin",
     "output_type": "stream",
     "text": [
      "Do you want to solve another problem? (yes/no):  yes\n"
     ]
    },
    {
     "name": "stdout",
     "output_type": "stream",
     "text": [
      "Solve: 19 + 11\n"
     ]
    },
    {
     "name": "stdin",
     "output_type": "stream",
     "text": [
      "Your answer:  30\n"
     ]
    },
    {
     "name": "stdout",
     "output_type": "stream",
     "text": [
      "Correct!\n"
     ]
    },
    {
     "name": "stdin",
     "output_type": "stream",
     "text": [
      "Do you want to solve another problem? (yes/no):  yes\n"
     ]
    },
    {
     "name": "stdout",
     "output_type": "stream",
     "text": [
      "Solve: 18 / 14\n"
     ]
    },
    {
     "name": "stdin",
     "output_type": "stream",
     "text": [
      "Your answer:  1\n"
     ]
    },
    {
     "name": "stdout",
     "output_type": "stream",
     "text": [
      "Correct!\n"
     ]
    },
    {
     "name": "stdin",
     "output_type": "stream",
     "text": [
      "Do you want to solve another problem? (yes/no):  yes\n"
     ]
    },
    {
     "name": "stdout",
     "output_type": "stream",
     "text": [
      "Solve: 14 * 3\n"
     ]
    },
    {
     "name": "stdin",
     "output_type": "stream",
     "text": [
      "Your answer:  42\n"
     ]
    },
    {
     "name": "stdout",
     "output_type": "stream",
     "text": [
      "Correct!\n"
     ]
    },
    {
     "name": "stdin",
     "output_type": "stream",
     "text": [
      "Do you want to solve another problem? (yes/no):  yes\n"
     ]
    },
    {
     "name": "stdout",
     "output_type": "stream",
     "text": [
      "Solve: 4 / 11\n"
     ]
    },
    {
     "name": "stdin",
     "output_type": "stream",
     "text": [
      "Your answer:  0.1\n"
     ]
    },
    {
     "name": "stdout",
     "output_type": "stream",
     "text": [
      "Incorrect! The correct answer is: 0\n"
     ]
    },
    {
     "name": "stdin",
     "output_type": "stream",
     "text": [
      "Do you want to solve another problem? (yes/no):  yes\n"
     ]
    },
    {
     "name": "stdout",
     "output_type": "stream",
     "text": [
      "Solve: 9 - 7\n"
     ]
    },
    {
     "name": "stdin",
     "output_type": "stream",
     "text": [
      "Your answer:  2\n"
     ]
    },
    {
     "name": "stdout",
     "output_type": "stream",
     "text": [
      "Correct!\n"
     ]
    },
    {
     "name": "stdin",
     "output_type": "stream",
     "text": [
      "Do you want to solve another problem? (yes/no):  yes\n"
     ]
    },
    {
     "name": "stdout",
     "output_type": "stream",
     "text": [
      "Solve: 13 - 20\n"
     ]
    },
    {
     "name": "stdin",
     "output_type": "stream",
     "text": [
      "Your answer:  -7\n"
     ]
    },
    {
     "name": "stdout",
     "output_type": "stream",
     "text": [
      "Correct!\n"
     ]
    },
    {
     "name": "stdin",
     "output_type": "stream",
     "text": [
      "Do you want to solve another problem? (yes/no):  yes\n"
     ]
    },
    {
     "name": "stdout",
     "output_type": "stream",
     "text": [
      "Solve: 5 / 17\n"
     ]
    },
    {
     "name": "stdin",
     "output_type": "stream",
     "text": [
      "Your answer:  0\n"
     ]
    },
    {
     "name": "stdout",
     "output_type": "stream",
     "text": [
      "Correct!\n"
     ]
    },
    {
     "name": "stdin",
     "output_type": "stream",
     "text": [
      "Do you want to solve another problem? (yes/no):  yes\n"
     ]
    },
    {
     "name": "stdout",
     "output_type": "stream",
     "text": [
      "Solve: 12 * 2\n"
     ]
    },
    {
     "name": "stdin",
     "output_type": "stream",
     "text": [
      "Your answer:  24\n"
     ]
    },
    {
     "name": "stdout",
     "output_type": "stream",
     "text": [
      "Correct!\n"
     ]
    },
    {
     "name": "stdin",
     "output_type": "stream",
     "text": [
      "Do you want to solve another problem? (yes/no):  yes\n"
     ]
    },
    {
     "name": "stdout",
     "output_type": "stream",
     "text": [
      "Solve: 20 - 16\n"
     ]
    },
    {
     "name": "stdin",
     "output_type": "stream",
     "text": [
      "Your answer:  4\n"
     ]
    },
    {
     "name": "stdout",
     "output_type": "stream",
     "text": [
      "Correct!\n"
     ]
    },
    {
     "name": "stdin",
     "output_type": "stream",
     "text": [
      "Do you want to solve another problem? (yes/no):  yes\n"
     ]
    },
    {
     "name": "stdout",
     "output_type": "stream",
     "text": [
      "Solve: 1 / 13\n"
     ]
    },
    {
     "name": "stdin",
     "output_type": "stream",
     "text": [
      "Your answer:  0\n"
     ]
    },
    {
     "name": "stdout",
     "output_type": "stream",
     "text": [
      "Correct!\n"
     ]
    },
    {
     "name": "stdin",
     "output_type": "stream",
     "text": [
      "Do you want to solve another problem? (yes/no):  yes\n"
     ]
    },
    {
     "name": "stdout",
     "output_type": "stream",
     "text": [
      "Solve: 17 * 3\n"
     ]
    },
    {
     "name": "stdin",
     "output_type": "stream",
     "text": [
      "Your answer:  12\n"
     ]
    },
    {
     "name": "stdout",
     "output_type": "stream",
     "text": [
      "Incorrect! The correct answer is: 51\n"
     ]
    },
    {
     "name": "stdin",
     "output_type": "stream",
     "text": [
      "Do you want to solve another problem? (yes/no):  no\n"
     ]
    },
    {
     "name": "stdout",
     "output_type": "stream",
     "text": [
      "Your score: 85.71%\n"
     ]
    }
   ],
   "source": [
    "# Task 2\n",
    "import random\n",
    "\n",
    "\n",
    "def generate_problem():\n",
    "    num1 = random.randint(1, 20)\n",
    "    num2 = random.randint(1, 20)\n",
    "    operator = random.choice(['+', '-', '*', '/'])  \n",
    "    return num1, num2, operator\n",
    "\n",
    "\n",
    "correct_answers = 0\n",
    "total_questions = 0\n",
    "\n",
    "while True:\n",
    "    \n",
    "    num1, num2, operator = generate_problem()\n",
    "    print(f\"Solve: {num1} {operator} {num2}\")\n",
    "\n",
    "    if operator == '+':\n",
    "        correct_answer = num1 + num2\n",
    "    elif operator == '-':\n",
    "        correct_answer = num1 - num2\n",
    "    elif operator == '*':\n",
    "        correct_answer = num1 * num2\n",
    "    elif operator == '/':\n",
    "        \n",
    "        correct_answer = num1 // num2 if num2 != 0 else \"undefined\"\n",
    "\n",
    "    try:\n",
    "        \n",
    "        user_input = input(\"Your answer: \")\n",
    "        \n",
    "     \n",
    "        if operator == '/' and num2 == 0:\n",
    "            print(\"Division by zero is not allowed.\")\n",
    "            continue\n",
    "\n",
    "        user_answer = float(user_input) if '.' in user_input else int(user_input)\n",
    "\n",
    "        \n",
    "        if (operator == '/' and user_answer == correct_answer) or (operator != '/' and user_answer == correct_answer):\n",
    "            print(\"Correct!\")\n",
    "            correct_answers += 1\n",
    "        else:\n",
    "            print(f\"Incorrect! The correct answer is: {correct_answer}\")\n",
    "\n",
    "        total_questions += 1\n",
    "\n",
    "    except ValueError:\n",
    "        print(\"Invalid input. Please enter a valid number.\")\n",
    "\n",
    "   \n",
    "    play_again = input(\"Do you want to solve another problem? (yes/no): \").strip().lower()\n",
    "    if play_again != 'yes':\n",
    "        break\n",
    "\n",
    "# Score percentage\n",
    "if total_questions > 0:\n",
    "    score_percentage = (correct_answers / total_questions) * 100\n",
    "    print(f\"Your score: {score_percentage:.2f}%\")\n",
    "else:\n",
    "    print(\"No questions were answered.\")\n",
    "\n"
   ]
  },
  {
   "cell_type": "code",
   "execution_count": 6,
   "id": "b9cf06fa-ab96-42df-a67c-86037e9c2f03",
   "metadata": {},
   "outputs": [
    {
     "name": "stdout",
     "output_type": "stream",
     "text": [
      "Welcome to the General Knowledge Quiz!\n",
      "Choose your category from the following list:\n",
      "1. Science-based\n",
      "2. Mathematics-based\n",
      "3. Geography-based\n",
      "4. Others\n"
     ]
    },
    {
     "name": "stdin",
     "output_type": "stream",
     "text": [
      "Enter the number corresponding to your choice:  2\n",
      "What is the only even prime number?\n",
      "Your answer:  2\n"
     ]
    },
    {
     "name": "stdout",
     "output_type": "stream",
     "text": [
      "Correct!\n"
     ]
    },
    {
     "name": "stdin",
     "output_type": "stream",
     "text": [
      "What is the sum of the first 5 natural numbers?\n",
      "Your answer:  15\n"
     ]
    },
    {
     "name": "stdout",
     "output_type": "stream",
     "text": [
      "Correct!\n"
     ]
    },
    {
     "name": "stdin",
     "output_type": "stream",
     "text": [
      "What is the name of the mathematical symbol Tr?\n",
      "Your answer:  Pi\n"
     ]
    },
    {
     "name": "stdout",
     "output_type": "stream",
     "text": [
      "Correct!\n",
      "\n",
      "You answered 3 out of 3 questions correctly.\n",
      "Your score: 100.00%\n",
      "\n"
     ]
    },
    {
     "name": "stdin",
     "output_type": "stream",
     "text": [
      "Do you want to play again? (yes/no):  Yes\n"
     ]
    },
    {
     "name": "stdout",
     "output_type": "stream",
     "text": [
      "Choose your category from the following list:\n",
      "1. Science-based\n",
      "2. Mathematics-based\n",
      "3. Geography-based\n",
      "4. Others\n"
     ]
    },
    {
     "name": "stdin",
     "output_type": "stream",
     "text": [
      "Enter the number corresponding to your choice:  1\n",
      "Which gas do plants absorb during photosynthesis?\n",
      "Your answer:  Carbon dioxide\n"
     ]
    },
    {
     "name": "stdout",
     "output_type": "stream",
     "text": [
      "Correct!\n"
     ]
    },
    {
     "name": "stdin",
     "output_type": "stream",
     "text": [
      "What is the full name of the WWW?\n",
      "Your answer:  world wide web\n"
     ]
    },
    {
     "name": "stdout",
     "output_type": "stream",
     "text": [
      "Correct!\n"
     ]
    },
    {
     "name": "stdin",
     "output_type": "stream",
     "text": [
      "How many bones are there in the adult human body?\n",
      "Your answer:  206\n"
     ]
    },
    {
     "name": "stdout",
     "output_type": "stream",
     "text": [
      "Correct!\n",
      "\n",
      "You answered 3 out of 3 questions correctly.\n",
      "Your score: 100.00%\n",
      "\n"
     ]
    },
    {
     "name": "stdin",
     "output_type": "stream",
     "text": [
      "Do you want to play again? (yes/no):  no\n"
     ]
    },
    {
     "name": "stdout",
     "output_type": "stream",
     "text": [
      "Thank you for playing the General Knowledge Quiz!\n",
      "Goodbye!\n"
     ]
    }
   ],
   "source": [
    "# Task 3\n",
    "import sys\n",
    "\n",
    "# List of questions and answers for each category\n",
    "science_questions = [\n",
    "    {\"question\": \"Which gas do plants absorb during photosynthesis?\", \"answer\": \"Carbon dioxide\"},\n",
    "    {\"question\": \"What is the full name of the WWW?\", \"answer\": \"World Wide Web\"},\n",
    "    {\"question\": \"How many bones are there in the adult human body?\", \"answer\": \"206\"},\n",
    "    {\"question\": \"What is the chemical symbol for water?\", \"answer\": \"H2O\"},\n",
    "    {\"question\": \"What planet is closest to the Sun?\", \"answer\": \"Mercury\"},\n",
    "    {\"question\": \"What is the powerhouse of the cell?\", \"answer\": \"Mitochondria\"},\n",
    "    {\"question\": \"How many planets are in our solar system?\", \"answer\": \"8\"},\n",
    "    {\"question\": \"What is the hardest natural substance on Earth?\", \"answer\": \"Diamond\"},\n",
    "    {\"question\": \"Which gas is most abundant in the Earth's atmosphere?\", \"answer\": \"Nitrogen\"},\n",
    "    {\"question\": \"What is the human body's largest organ?\", \"answer\": \"Skin\"},\n",
    "]\n",
    "\n",
    "math_questions = [\n",
    "    {\"question\": \"What is the only even prime number?\", \"answer\": \"2\"},\n",
    "    {\"question\": \"What is the sum of the first 5 natural numbers?\", \"answer\": \"15\"},\n",
    "    {\"question\": \"What is the name of the mathematical symbol Tr?\", \"answer\": \"Pi\"},\n",
    "    {\"question\": \"What is 7 multiplied by 8?\", \"answer\": \"56\"},\n",
    "    {\"question\": \"What is the square root of 64?\", \"answer\": \"8\"},\n",
    "    {\"question\": \"How many sides does a hexagon have?\", \"answer\": \"6\"},\n",
    "    {\"question\": \"What is 9 squared?\", \"answer\": \"81\"},\n",
    "    {\"question\": \"How many degrees are in a circle?\", \"answer\": \"360\"},\n",
    "    {\"question\": \"What is 5 factorial (5!)?\", \"answer\": \"120\"},\n",
    "    {\"question\": \"What is 100 divided by 5?\", \"answer\": \"20\"},\n",
    "]\n",
    "\n",
    "geography_questions = [\n",
    "    {\"question\": \"What is the tallest mountain on Earth?\", \"answer\": \"Mount Everest\"},\n",
    "    {\"question\": \"What is the capital of France?\", \"answer\": \"Paris\"},\n",
    "    {\"question\": \"Which planet is known as the 'Red Planet'?\", \"answer\": \"Mars\"},\n",
    "    {\"question\": \"Which country has the largest population?\", \"answer\": \"China\"},\n",
    "    {\"question\": \"Which continent is the Sahara Desert located on?\", \"answer\": \"Africa\"},\n",
    "    {\"question\": \"Which country is the Great Barrier Reef located in?\", \"answer\": \"Australia\"},\n",
    "    {\"question\": \"What is the capital of Japan?\", \"answer\": \"Tokyo\"},\n",
    "    {\"question\": \"Which river is the longest in the world?\", \"answer\": \"Nile\"},\n",
    "    {\"question\": \"In which country can you find the Eiffel Tower?\", \"answer\": \"France\"},\n",
    "    {\"question\": \"What is the smallest country in the world?\", \"answer\": \"Vatican City\"},\n",
    "]\n",
    "\n",
    "other_questions = [\n",
    "    {\"question\": \"Which country won the most recent FIFA World Cup (as of 2022)?\", \"answer\": \"Argentina\"},\n",
    "    {\"question\": \"Who invented the light bulb?\", \"answer\": \"Thomas Edison\"},\n",
    "    {\"question\": \"In what year did India declare itself a Democratic and Republic state with the adoption of the Constitution?\", \"answer\": \"1950\"},\n",
    "    {\"question\": \"What is the largest ocean on Earth?\", \"answer\": \"Pacific Ocean\"},\n",
    "    {\"question\": \"Who wrote the play 'Romeo and Juliet'?\", \"answer\": \"William Shakespeare\"},\n",
    "    {\"question\": \"What is the national currency of Japan?\", \"answer\": \"Yen\"},\n",
    "    {\"question\": \"Which company created the iPhone?\", \"answer\": \"Apple\"},\n",
    "    {\"question\": \"What is the most spoken language in the world?\", \"answer\": \"Mandarin\"},\n",
    "    {\"question\": \"In which year did the Titanic sink?\", \"answer\": \"1912\"},\n",
    "    {\"question\": \"Who was the first man to walk on the moon?\", \"answer\": \"Neil Armstrong\"},\n",
    "]\n",
    "\n",
    "# Function to ask the user to choose a category\n",
    "def ask_category():\n",
    "    print(\"Choose your category from the following list:\")\n",
    "    print(\"1. Science-based\")\n",
    "    print(\"2. Mathematics-based\")\n",
    "    print(\"3. Geography-based\")\n",
    "    print(\"4. Others\")\n",
    "    \n",
    "    try:\n",
    "        category = int(input(\"Enter the number corresponding to your choice: \"))\n",
    "        if category not in range(1, 5):\n",
    "            raise ValueError(\"Invalid category choice.\")\n",
    "        return category\n",
    "    except ValueError as e:\n",
    "        print(f\"Error: {e}\")\n",
    "        return ask_category()  # Retry on invalid input\n",
    "\n",
    "# Function to ask the user a question and get their answer\n",
    "def ask_question(question):\n",
    "    try:\n",
    "        return input(f\"{question}\\nYour answer: \")\n",
    "    except Exception as e:\n",
    "        print(f\"An unexpected error occurred: {e}\")\n",
    "        return ask_question(question)  # Retry on error\n",
    "\n",
    "# Function to check the user's answer and provide feedback\n",
    "def check_answer(user_answer, correct_answer):\n",
    "    if user_answer.strip().lower() == correct_answer.strip().lower():\n",
    "        print(\"Correct!\")\n",
    "        return True\n",
    "    else:\n",
    "        print(f\"Incorrect. The correct answer is {correct_answer}.\")\n",
    "        return False\n",
    "\n",
    "# Function to display the user's score\n",
    "def display_score(questions, score):\n",
    "    total_questions = len(questions)\n",
    "    correct_answers = score\n",
    "    percentage = (correct_answers / total_questions) * 100\n",
    "    print(f\"\\nYou answered {correct_answers} out of {total_questions} questions correctly.\")\n",
    "    print(f\"Your score: {percentage:.2f}%\\n\")\n",
    "\n",
    "# Function to execute the quiz questions and keep track of the score\n",
    "def exec_questions(questions):\n",
    "    score = 0\n",
    "    for q in questions:\n",
    "        user_answer = ask_question(q[\"question\"])\n",
    "        if check_answer(user_answer, q[\"answer\"]):\n",
    "            score += 1\n",
    "    display_score(questions, score)\n",
    "\n",
    "# Main game loop\n",
    "def play_game():\n",
    "    print(\"Welcome to the General Knowledge Quiz!\")\n",
    "    \n",
    "    while True:\n",
    "        category = ask_category()\n",
    "\n",
    "        if category == 1:\n",
    "            exec_questions(science_questions)\n",
    "        elif category == 2:\n",
    "            exec_questions(math_questions)\n",
    "        elif category == 3:\n",
    "            exec_questions(geography_questions)\n",
    "        elif category == 4:\n",
    "            exec_questions(other_questions)\n",
    "\n",
    "        # Ask if the user wants to play again\n",
    "        play_again = input(\"Do you want to play again? (yes/no): \").strip().lower()\n",
    "        if play_again != 'yes':\n",
    "            break\n",
    "    \n",
    "    print(\"Thank you for playing the General Knowledge Quiz!\")\n",
    "\n",
    "# Run the program\n",
    "if __name__ == \"__main__\":\n",
    "    try:\n",
    "        play_game()\n",
    "    except KeyboardInterrupt:\n",
    "        print(\"\\nGame interrupted.\")\n",
    "    finally:\n",
    "        print(\"Goodbye!\")\n"
   ]
  },
  {
   "cell_type": "code",
   "execution_count": 22,
   "id": "31ed893a-9801-4a10-9d07-e6ef29f26a44",
   "metadata": {},
   "outputs": [
    {
     "name": "stdout",
     "output_type": "stream",
     "text": [
      "Welcome to Rock-Paper-Scissors!\n"
     ]
    },
    {
     "name": "stdin",
     "output_type": "stream",
     "text": [
      "Enter your choice (rock, paper, or scissors):  paper\n"
     ]
    },
    {
     "name": "stdout",
     "output_type": "stream",
     "text": [
      "Computer chose: rock\n",
      "You chose: paper\n",
      "You win!\n"
     ]
    }
   ],
   "source": [
    "#Task 4\n",
    "import random\n",
    "\n",
    "# List of possible choices\n",
    "choices = [\"rock\", \"paper\", \"scissors\"]\n",
    "\n",
    "# Computer's choice\n",
    "def get_computer_choice():\n",
    "    return random.choice(choices)\n",
    "\n",
    "# User's choice\n",
    "def get_user_choice():\n",
    "    try:\n",
    "        user_input = input(\"Enter your choice (rock, paper, or scissors): \").strip().lower()\n",
    "        if user_input not in choices:\n",
    "            raise ValueError(\"Invalid choice. Please choose rock, paper, or scissors.\")\n",
    "        return user_input\n",
    "    except ValueError as e:\n",
    "        print(e)\n",
    "        return get_user_choice()  \n",
    "\n",
    "# Find the winner\n",
    "def determine_winner(computer_choice, user_choice):\n",
    "    if computer_choice == user_choice:\n",
    "        return \"It's a tie!\"\n",
    "    elif (computer_choice == \"rock\" and user_choice == \"scissors\") or \\\n",
    "         (computer_choice == \"paper\" and user_choice == \"rock\") or \\\n",
    "         (computer_choice == \"scissors\" and user_choice == \"paper\"):\n",
    "        return \"Computer wins!\"\n",
    "    else:\n",
    "        return \"You win!\"\n",
    "\n",
    "# Play game\n",
    "def play_game():\n",
    "    print(\"Welcome to Rock-Paper-Scissors!\")\n",
    "    \n",
    "    computer_choice = get_computer_choice()\n",
    "    user_choice = get_user_choice()\n",
    "    \n",
    "    print(f\"Computer chose: {computer_choice}\")\n",
    "    print(f\"You chose: {user_choice}\")\n",
    "    \n",
    "    result = determine_winner(computer_choice, user_choice)\n",
    "    print(result)\n",
    "\n",
    "\n",
    "# Run the game\n",
    "if __name__ == \"__main__\":\n",
    "    try:\n",
    "        play_game()\n",
    "    except KeyboardInterrupt:\n",
    "        print(\"\\nGame interrupted.\")\n"
   ]
  },
  {
   "cell_type": "code",
   "execution_count": 24,
   "id": "fceff357-ef80-43e4-92a0-ed39c55d016c",
   "metadata": {},
   "outputs": [
    {
     "name": "stdout",
     "output_type": "stream",
     "text": [
      "Welcome to the two-player Rock-Paper-Scissors game!\n"
     ]
    },
    {
     "name": "stdin",
     "output_type": "stream",
     "text": [
      "Hello user1! Enter your name:  Naga\n",
      "Hello user2! Enter your name:  Tony\n",
      "Hello Naga! Enter a choice (rock, paper, scissors):  paper\n",
      "Hello Tony! Enter a choice (rock, paper, scissors):  rock\n"
     ]
    },
    {
     "name": "stdout",
     "output_type": "stream",
     "text": [
      "Paper beats rock! Naga wins!\n",
      "Goodbye!\n"
     ]
    }
   ],
   "source": [
    "# Task 5\n",
    "def get_player_choice(player_name):\n",
    "    choices = [\"rock\", \"paper\", \"scissors\"]\n",
    "    try:\n",
    "        choice = input(f\"Hello {player_name}! Enter a choice (rock, paper, scissors): \").strip().lower()\n",
    "        if choice not in choices:\n",
    "            raise ValueError(\"Invalid choice. Please choose rock, paper, or scissors.\")\n",
    "        return choice\n",
    "    except ValueError as e:\n",
    "        print(e)\n",
    "        return get_player_choice(player_name)  # Retry on invalid input\n",
    "\n",
    "# Function to determine the winner\n",
    "def determine_winner(player1_name, player1_choice, player2_name, player2_choice):\n",
    "    if player1_choice == player2_choice:\n",
    "        return \"It's a tie!\"\n",
    "    elif (player1_choice == \"rock\" and player2_choice == \"scissors\") or \\\n",
    "         (player1_choice == \"paper\" and player2_choice == \"rock\") or \\\n",
    "         (player1_choice == \"scissors\" and player2_choice == \"paper\"):\n",
    "        return f\"{player1_choice.capitalize()} beats {player2_choice}! {player1_name} wins!\"\n",
    "    else:\n",
    "        return f\"{player2_choice.capitalize()} beats {player1_choice}! {player2_name} wins!\"\n",
    "\n",
    "# Function to play the game\n",
    "def play_game():\n",
    "    print(\"Welcome to the two-player Rock-Paper-Scissors game!\")\n",
    "    \n",
    "    # Get player names\n",
    "    player1_name = input(\"Hello user1! Enter your name: \").strip()\n",
    "    player2_name = input(\"Hello user2! Enter your name: \").strip()\n",
    "    \n",
    "    # Get choices for both players\n",
    "    player1_choice = get_player_choice(player1_name)\n",
    "    player2_choice = get_player_choice(player2_name)\n",
    "    \n",
    "    # Determine and display the winner\n",
    "    result = determine_winner(player1_name, player1_choice, player2_name, player2_choice)\n",
    "    print(result)\n",
    "\n",
    "# Run the game\n",
    "if __name__ == \"__main__\":\n",
    "    try:\n",
    "        play_game()\n",
    "    except KeyboardInterrupt:\n",
    "        print(\"\\nGame interrupted.\")\n",
    "    finally:\n",
    "        print(\"Goodbye!\")\n"
   ]
  },
  {
   "cell_type": "code",
   "execution_count": 3,
   "id": "e96a6448-f2ab-46f5-8323-4a357a8c7905",
   "metadata": {},
   "outputs": [
    {
     "name": "stdout",
     "output_type": "stream",
     "text": [
      "Welcome to the Word Guessing Game!\n"
     ]
    },
    {
     "name": "stdin",
     "output_type": "stream",
     "text": [
      "Would you like a clue? (yes or no):  yes\n"
     ]
    },
    {
     "name": "stdout",
     "output_type": "stream",
     "text": [
      "Clue: The word has 8 letters.\n"
     ]
    },
    {
     "name": "stdin",
     "output_type": "stream",
     "text": [
      "Enter your guess:  p\n"
     ]
    },
    {
     "name": "stdout",
     "output_type": "stream",
     "text": [
      "Incorrect guess. You have 5 attempts remaining.\n"
     ]
    },
    {
     "name": "stdin",
     "output_type": "stream",
     "text": [
      "Enter your guess:  data\n"
     ]
    },
    {
     "name": "stdout",
     "output_type": "stream",
     "text": [
      "Incorrect guess. You have 4 attempts remaining.\n"
     ]
    },
    {
     "name": "stdin",
     "output_type": "stream",
     "text": [
      "Enter your guess:  database\n"
     ]
    },
    {
     "name": "stdout",
     "output_type": "stream",
     "text": [
      "Congratulations! You guessed the word 'database' correctly.\n",
      "Goodbye!\n"
     ]
    }
   ],
   "source": [
    "# Task 1 S10\n",
    "import random\n",
    "\n",
    "# Function to provide a clue\n",
    "def give_clue(secret_word):\n",
    "    print(f\"Clue: The word has {len(secret_word)} letters.\")\n",
    "\n",
    "# Function to play the word guessing game\n",
    "def play_word_guessing_game():\n",
    "    words = [\"python\", \"developer\", \"analyst\", \"project\", \"manager\", \"database\", \"software\", \"engineer\", \"designer\", \"architecture\"]\n",
    "    \n",
    "    # Randomly select a secret word from the list\n",
    "    secret_word = random.choice(words)\n",
    "    attempts = 6  # Set a limit on the number of attempts\n",
    "\n",
    "    print(\"Welcome to the Word Guessing Game!\")\n",
    "    \n",
    "    # Ask if the player wants a clue\n",
    "    clue_option = input(\"Would you like a clue? (yes or no): \").strip().lower()\n",
    "    if clue_option == \"yes\":\n",
    "        give_clue(secret_word)\n",
    "    \n",
    "    # Start guessing loop\n",
    "    guessed = False\n",
    "    guesses = []\n",
    "    \n",
    "    while attempts > 0 and not guessed:\n",
    "        guess = input(\"Enter your guess: \").strip().lower()\n",
    "        \n",
    "        # Check if the guess is valid\n",
    "        if len(guess) == 0:\n",
    "            print(\"Please enter a valid word.\")\n",
    "            continue\n",
    "        \n",
    "        # Check if the guess was already made\n",
    "        if guess in guesses:\n",
    "            print(\"You already guessed that word.\")\n",
    "            continue\n",
    "        \n",
    "        # Add the guess to the guesses list\n",
    "        guesses.append(guess)\n",
    "        \n",
    "        # Check if the guess is correct\n",
    "        if guess == secret_word:\n",
    "            print(f\"Congratulations! You guessed the word '{secret_word}' correctly.\")\n",
    "            guessed = True\n",
    "        else:\n",
    "            attempts -= 1\n",
    "            print(f\"Incorrect guess. You have {attempts} attempts remaining.\")\n",
    "    \n",
    "    # If all attempts are used\n",
    "    if not guessed:\n",
    "        print(f\"Sorry, you're out of attempts. The word was '{secret_word}'.\")\n",
    "\n",
    "# Run the game\n",
    "if __name__ == \"__main__\":\n",
    "    try:\n",
    "        play_word_guessing_game()\n",
    "    except KeyboardInterrupt:\n",
    "        print(\"\\nGame interrupted.\")\n",
    "    finally:\n",
    "        print(\"Goodbye!\")\n"
   ]
  },
  {
   "cell_type": "code",
   "execution_count": null,
   "id": "cfb81545-3b3a-41d3-af7f-d8695330bde7",
   "metadata": {},
   "outputs": [],
   "source": []
  }
 ],
 "metadata": {
  "kernelspec": {
   "display_name": "Python 3 (ipykernel)",
   "language": "python",
   "name": "python3"
  },
  "language_info": {
   "codemirror_mode": {
    "name": "ipython",
    "version": 3
   },
   "file_extension": ".py",
   "mimetype": "text/x-python",
   "name": "python",
   "nbconvert_exporter": "python",
   "pygments_lexer": "ipython3",
   "version": "3.12.4"
  }
 },
 "nbformat": 4,
 "nbformat_minor": 5
}
